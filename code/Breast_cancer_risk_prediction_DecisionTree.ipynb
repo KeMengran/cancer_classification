{
 "cells": [
  {
   "cell_type": "code",
   "execution_count": 3,
   "id": "908af07a-3f20-4c9b-9894-e8cfc007cf75",
   "metadata": {},
   "outputs": [],
   "source": [
    "%matplotlib inline\n",
    "import numpy as np\n",
    "import pandas as pd \n",
    "import matplotlib.pyplot as plt\n",
    "import seaborn as sns \n",
    "import plotly.express as px\n",
    "from plotly.offline import iplot, plot\n",
    "from sklearn.tree import DecisionTreeClassifier\n",
    "from sklearn.model_selection import train_test_split\n",
    "from sklearn.preprocessing import LabelEncoder\n",
    "from sklearn.metrics import confusion_matrix\n",
    "from sklearn.metrics import classification_report \n",
    "from sklearn.preprocessing import StandardScaler\n",
    "from sklearn.decomposition import PCA\n",
    "from sklearn.model_selection import cross_val_score"
   ]
  },
  {
   "cell_type": "markdown",
   "id": "24dd8525-1053-4e92-8693-ba555666e57c",
   "metadata": {},
   "source": [
    "read the data"
   ]
  },
  {
   "cell_type": "code",
   "execution_count": 4,
   "id": "4fc0c9a0-1909-4ff9-ac11-0410c8779294",
   "metadata": {},
   "outputs": [
    {
     "ename": "NameError",
     "evalue": "name 'df' is not defined",
     "output_type": "error",
     "traceback": [
      "\u001b[1;31m---------------------------------------------------------------------------\u001b[0m",
      "\u001b[1;31mNameError\u001b[0m                                 Traceback (most recent call last)",
      "Cell \u001b[1;32mIn[4], line 1\u001b[0m\n\u001b[1;32m----> 1\u001b[0m df\u001b[38;5;241m.\u001b[39mto_csv(\u001b[38;5;124m'\u001b[39m\u001b[38;5;124mdata.csv\u001b[39m\u001b[38;5;124m'\u001b[39m,index\u001b[38;5;241m=\u001b[39m\u001b[38;5;28;01mFalse\u001b[39;00m)\n\u001b[0;32m      2\u001b[0m df \u001b[38;5;241m=\u001b[39m pd\u001b[38;5;241m.\u001b[39mread_csv(\u001b[38;5;124m'\u001b[39m\u001b[38;5;124mdata.csv\u001b[39m\u001b[38;5;124m'\u001b[39m)\n\u001b[0;32m      3\u001b[0m df\u001b[38;5;241m.\u001b[39minfo()\n",
      "\u001b[1;31mNameError\u001b[0m: name 'df' is not defined"
     ]
    }
   ],
   "source": [
    "df.to_csv('data.csv',index=False)\n",
    "df = pd.read_csv('data.csv')\n",
    "df.info()"
   ]
  },
  {
   "cell_type": "markdown",
   "id": "289e5099-e0db-48ca-b049-fda8f952c3d2",
   "metadata": {},
   "source": [
    "总共30个特征，分别是对10个实值特征计算，mean, se, worst\n",
    "diagnosis 列为标签"
   ]
  },
  {
   "cell_type": "code",
   "execution_count": null,
   "id": "8e9bdff3-aeb6-4c28-ba18-fffb182942fe",
   "metadata": {},
   "outputs": [],
   "source": [
    "plt.rcParams['figure.figsize'] = (15,8) \n",
    "plt.rcParams['axes.titlesize'] = 'large'\n",
    "df = pd.read_csv('data.csv')\n",
    "#basic descriptive statistics\n",
    "df.iloc[:,2:32].describe()"
   ]
  },
  {
   "cell_type": "markdown",
   "id": "87d7badf-b0f4-44d7-9b50-8ac733e9a8a5",
   "metadata": {},
   "source": [
    "3-32 列包含 30 个实值特征，可用于构建模型来预测肿瘤是良性还是恶性。"
   ]
  },
  {
   "cell_type": "code",
   "execution_count": null,
   "id": "4283bd92-fdd7-412c-86df-e7bbbd1a8b6b",
   "metadata": {},
   "outputs": [],
   "source": [
    "diagnosis = df['diagnosis'].value_counts().reset_index()\n",
    "diagnosis"
   ]
  },
  {
   "cell_type": "code",
   "execution_count": null,
   "id": "072e8d75-a6f3-4377-8efb-08c98455f0ec",
   "metadata": {},
   "outputs": [],
   "source": [
    "df.isnull().sum()"
   ]
  },
  {
   "cell_type": "markdown",
   "id": "09576ae9-4c2f-4cdc-b83a-c93bbfbfe522",
   "metadata": {},
   "source": [
    "无缺失值"
   ]
  },
  {
   "cell_type": "code",
   "execution_count": null,
   "id": "a0c6fafa-755d-461f-a853-db6328ef9f43",
   "metadata": {},
   "outputs": [],
   "source": [
    "df.diagnosis.value_counts().plot(kind = \"bar\")"
   ]
  },
  {
   "cell_type": "markdown",
   "id": "39151536-5418-47f8-8e95-c1fbacad06a3",
   "metadata": {},
   "source": [
    "良性：恶性约为2：1"
   ]
  },
  {
   "cell_type": "markdown",
   "id": "a74e6337-c16b-4d43-b636-2cc5d43f7bf9",
   "metadata": {},
   "source": [
    "数据探索性分析\n",
    "数据探索主要是掌握，数据的结构，值的分布，在数据集中是否存在异常值，特征间相互关系。\n",
    "主要包括描述性统计分析和\n",
    "数据可视化"
   ]
  },
  {
   "cell_type": "markdown",
   "id": "531800f5-6112-4453-9cf4-b60b2738c8c0",
   "metadata": {},
   "source": [
    "描述性统计"
   ]
  },
  {
   "cell_type": "code",
   "execution_count": null,
   "id": "361965ee-c6e8-45ba-b0ab-e51f97cd20ca",
   "metadata": {},
   "outputs": [],
   "source": [
    "#Load libraries for data processing\n",
    "import pandas as pd \n",
    "from scipy.stats import norm\n",
    "import seaborn as sns # visualization\n",
    "\n",
    "plt.rcParams['figure.figsize'] = (15,8) \n",
    "plt.rcParams['axes.titlesize'] = 'large'\n",
    "\n",
    "data = pd.read_csv('data.csv')\n",
    "#basic descriptive statistics\n",
    "data.iloc[:,2:32].describe()"
   ]
  },
  {
   "cell_type": "code",
   "execution_count": null,
   "id": "24cf08b8-9e93-42b1-ba08-042ea87f5e20",
   "metadata": {},
   "outputs": [],
   "source": [
    "df.columns"
   ]
  },
  {
   "cell_type": "code",
   "execution_count": null,
   "id": "0e6366c2-d277-42e2-b9c0-6e8c9161d9d7",
   "metadata": {},
   "outputs": [],
   "source": [
    "Dimensions = df[['radius_mean', 'texture_mean', 'perimeter_mean',\n",
    "       'area_mean', 'smoothness_mean', 'compactness_mean', 'concavity_mean',\n",
    "       'concave points_mean', 'symmetry_mean', 'fractal_dimension_mean']].sum().reset_index()\n",
    "Dimensions"
   ]
  },
  {
   "cell_type": "markdown",
   "id": "a9fb8d34-95c2-42a9-a3c5-6bb879216a42",
   "metadata": {},
   "source": [
    "数据可视化"
   ]
  },
  {
   "cell_type": "code",
   "execution_count": null,
   "id": "72b0b360-6425-43bc-9a6f-556fa0e3bce6",
   "metadata": {},
   "outputs": [],
   "source": [
    "sns.set_style(\"white\")\n",
    "sns.set_context({\"figure.figsize\": (8, 8)})"
   ]
  },
  {
   "cell_type": "markdown",
   "id": "e32b50a9-1de3-4da2-adea-ccab4eda0f7d",
   "metadata": {},
   "source": [
    "将特征分为三组：mean, se, worst化"
   ]
  },
  {
   "cell_type": "code",
   "execution_count": null,
   "id": "ac31c19c-b98a-4874-bf0e-ccedbf3fd4e8",
   "metadata": {},
   "outputs": [],
   "source": [
    "#For a merge + slice:\n",
    "data_mean=df.iloc[:,2:12]\n",
    "data_se=df.iloc[:,12:22]\n",
    "data_worst=df.iloc[:,22:32]\n",
    "print(data_mean.columns)\n",
    "print(data_se.columns)\n",
    "print(data_worst.columns)"
   ]
  },
  {
   "cell_type": "markdown",
   "id": "5aa9bbd7-a161-4b79-b2d1-aa02c698dddd",
   "metadata": {},
   "source": [
    "各组特征可视化 -- 直方图"
   ]
  },
  {
   "cell_type": "code",
   "execution_count": null,
   "id": "04643830-19b4-4cb0-850a-229e45419a38",
   "metadata": {},
   "outputs": [],
   "source": [
    "#Plot histograms of CUT1 variables\n",
    "data_mean.hist(bins=10, figsize=(15, 10),grid=False,color = \"pink\")\n",
    "data_se.hist(bins=10, figsize=(15, 10),grid=False,color = \"orange\")\n",
    "data_worst.hist(bins=10, figsize=(15, 10),grid=False,color = \"blue\")"
   ]
  },
  {
   "cell_type": "markdown",
   "id": "16cb2709-58b4-4c92-949d-410c23b280ee",
   "metadata": {},
   "source": [
    "可以看到，属性 凹度， 凹点 可能具有指数分布；纹理，平滑，对称属性可能具有高斯或接近高斯分布。"
   ]
  },
  {
   "cell_type": "markdown",
   "id": "55f32a0c-ca45-4518-b33a-4c84571ebf71",
   "metadata": {},
   "source": [
    "概率密度曲线"
   ]
  },
  {
   "cell_type": "code",
   "execution_count": null,
   "id": "27e0a378-ccd6-477b-b18e-d10c60a69251",
   "metadata": {},
   "outputs": [],
   "source": [
    "plt = data_mean.plot(kind= 'density', subplots=True, \n",
    "                     layout=(4,3), sharex=False, \n",
    "                     sharey=False, fontsize=15, figsize=(15,10))\n",
    "\n",
    "plt = data_se.plot(kind= 'density', subplots=True, \n",
    "                     layout=(4,3), sharex=False, \n",
    "                     sharey=False, fontsize=15, figsize=(15,10))\n",
    "\n",
    "plt = data_worst.plot(kind= 'density', subplots=True, \n",
    "                     layout=(4,3), sharex=False, \n",
    "                     sharey=False, fontsize=15, figsize=(15,10))"
   ]
  },
  {
   "cell_type": "markdown",
   "id": "a76d7a7b-2995-432a-9a63-f3287f0b061f",
   "metadata": {},
   "source": [
    "周长、半径、面积、凹度、密度可能具有指数分布； 纹理、平滑、对称属性可能具有高斯或接近高斯分布。"
   ]
  },
  {
   "cell_type": "markdown",
   "id": "074c4021-9713-4db8-8c83-5976ec11f9bc",
   "metadata": {},
   "source": [
    "指数分布 的特征经对数log()变换之后可以呈高斯分布"
   ]
  },
  {
   "cell_type": "code",
   "execution_count": null,
   "id": "482b8719-76a5-4282-aa3b-ab4c9707f146",
   "metadata": {},
   "outputs": [],
   "source": [
    "# transform exponential distribution to Gaussian univariate distribution\n",
    "data_mean['area_mean'].plot(kind = \"hist\", figsize=(8,6))"
   ]
  },
  {
   "cell_type": "code",
   "execution_count": null,
   "id": "d155a7f6-2b6a-4885-997b-157ff6954c8e",
   "metadata": {},
   "outputs": [],
   "source": [
    "np.log1p(data_mean['area_mean']).plot(kind = \"hist\", figsize=(8,6))"
   ]
  },
  {
   "cell_type": "code",
   "execution_count": null,
   "id": "e26a7362-6dac-4c64-b65e-fba3f694ff30",
   "metadata": {},
   "outputs": [],
   "source": [
    "np.log10(data_mean['area_mean']).plot(kind = \"hist\", figsize=(8,6))"
   ]
  },
  {
   "cell_type": "markdown",
   "id": "e8dcd5a2-9a3c-4117-9dc0-5762c8de3084",
   "metadata": {},
   "source": [
    "通过箱线图可视化数据分布情况和异常值"
   ]
  },
  {
   "cell_type": "code",
   "execution_count": null,
   "id": "39c93762-3fb6-4072-989d-64cb6ceb10d5",
   "metadata": {},
   "outputs": [],
   "source": [
    "# box and whisker plots\n",
    "plt=data_mean.plot(kind= 'box' , subplots=True, layout=(4,4), \n",
    "                   sharex=False, sharey=False,fontsize=12)\n",
    "\n",
    "plt=data_se.plot(kind= 'box' , subplots=True, layout=(4,4), \n",
    "                 sharex=False, sharey=False,fontsize=12)\n",
    "\n",
    "plt=data_worst.plot(kind= 'box' , subplots=True, layout=(4,4), \n",
    "                 sharex=False, sharey=False,fontsize=12)"
   ]
  },
  {
   "cell_type": "markdown",
   "id": "b354d0c8-d403-4219-8f29-e476bfb74f95",
   "metadata": {},
   "source": [
    "多模态数据可视化：散点图和相关矩阵"
   ]
  },
  {
   "cell_type": "code",
   "execution_count": null,
   "id": "e147f934-581f-4549-888e-6cacb3886c7f",
   "metadata": {},
   "outputs": [],
   "source": [
    "# plot correlation matrix\n",
    "import pandas as pd\n",
    "import numpy as np\n",
    "import seaborn as sns\n",
    "from matplotlib import pyplot as plt\n",
    "\n",
    "plt.style.use('fivethirtyeight')\n",
    "sns.set_style(\"white\")\n",
    "# Compute the correlation matrix\n",
    "corr = data_mean.corr()\n",
    "# Generate a mask for the upper triangle\n",
    "mask = np.zeros_like(corr, dtype=np.bool_)\n",
    "mask[np.triu_indices_from(mask)] = True\n",
    "# Set up the matplotlib figure\n",
    "data, ax = plt.subplots(figsize=(8, 8))\n",
    "plt.title('Breast Cancer Feature Correlation---liziteng')\n",
    "# Generate a custom diverging colormap\n",
    "cmap = sns.diverging_palette(260, 10, as_cmap=True)\n",
    "# Draw the heatmap with the mask and correct aspect ratio\n",
    "sns.heatmap(corr, vmax=1.2, square='square', cmap=cmap, mask=mask, \n",
    "            ax=ax,annot=True, fmt='.2g',linewidths=2)"
   ]
  },
  {
   "cell_type": "markdown",
   "id": "4fb06074-e357-40cb-bff6-ad6316f24f86",
   "metadata": {},
   "source": [
    "可以看到平均值参数在 1-0.75 之间存在很强的正相关关系；。\n",
    "组织核的平均面积与半径和参数的均值呈强正相关；\n",
    "一些参数中度正相关（r在0.5-0.75之间）是凹度和面积，凹度和周长等; 同样，我们看到 fractal_dimension 与半径、纹理、参数平均值之间存在一些强烈的负相关。"
   ]
  },
  {
   "cell_type": "code",
   "execution_count": null,
   "id": "d2bd6aa2-84f4-4a5b-8f96-729efa345180",
   "metadata": {},
   "outputs": [],
   "source": [
    "data = pd.read_csv(\"data.csv\")\n",
    "g = sns.PairGrid(data[data.columns.tolist()[1:12]],\n",
    "                 hue ='diagnosis')\n",
    "g = g.map_diag(plt.hist)\n",
    "g = g.map_offdiag(plt.scatter, s = 3)"
   ]
  },
  {
   "cell_type": "markdown",
   "id": "61c52ccd-84f2-4da1-a633-691e5bf30818",
   "metadata": {},
   "source": [
    "预处理与特征工程"
   ]
  },
  {
   "cell_type": "markdown",
   "id": "165c7065-5cf8-4870-a9b4-5a23bb5d61d8",
   "metadata": {},
   "source": [
    "可以看到，大多数特征对于肿瘤良恶性的区分度还是很大的。"
   ]
  },
  {
   "cell_type": "markdown",
   "id": "cb46baf7-405e-4396-8243-2836ef588439",
   "metadata": {},
   "source": [
    "小结：\n",
    "细胞半径、周长、面积、紧密度、凹度和凹点的平均值可用于癌症的分类。 这些参数的较大值倾向于显示与恶性肿瘤的相关性。\n",
    "质地、平滑度、对称性或分维数的平均值并未显示出较好的诊断偏好。\n",
    "在任何直方图中，都没有明显的异常值需要进一步清理。"
   ]
  },
  {
   "cell_type": "markdown",
   "id": "8efb9209-87f9-4c1e-95d1-35b0074a9b97",
   "metadata": {},
   "source": [
    "预处理和特征工程"
   ]
  },
  {
   "cell_type": "markdown",
   "id": "61617e42-cd76-4994-8a73-c09034da17c4",
   "metadata": {},
   "source": [
    "数据加载"
   ]
  },
  {
   "cell_type": "code",
   "execution_count": null,
   "id": "876eb83d-2f43-40f0-bd8d-e8e8c106a861",
   "metadata": {},
   "outputs": [],
   "source": [
    "plt.style.use('fivethirtyeight')\n",
    "sns.set_style(\"white\")\n",
    "plt.rcParams['figure.figsize'] = (8,4) \n",
    "data = pd.read_csv('data.csv', index_col=False)"
   ]
  },
  {
   "cell_type": "markdown",
   "id": "0f3ea859-6a80-4dbd-97aa-a45893ca8a50",
   "metadata": {},
   "source": [
    "划分训练集和测试集"
   ]
  },
  {
   "cell_type": "code",
   "execution_count": null,
   "id": "ce61b732-adab-4463-8fd1-f589a4e521b5",
   "metadata": {},
   "outputs": [],
   "source": [
    "X = data.iloc[:,2:32]\n",
    "y = data.iloc[:,1].apply(lambda x: 1 if x == \"M\" else 0)\n",
    "##train 70% test 30%\n",
    "X_train, X_test, y_train, y_test = train_test_split(X, y, test_size=0.25, random_state=7)\n",
    "X_train.shape, y_train.shape, X_test.shape, y_test.shape"
   ]
  },
  {
   "cell_type": "markdown",
   "id": "a34f7afa-aeca-433c-855a-fa744d2ae542",
   "metadata": {},
   "source": [
    "数据标准化"
   ]
  },
  {
   "cell_type": "code",
   "execution_count": null,
   "id": "08a9b219-cda0-4719-909d-71525538cb5c",
   "metadata": {},
   "outputs": [],
   "source": [
    "# 归一化数据，以0为中心，缩放以消除方差\n",
    "scaler =StandardScaler()\n",
    "Xs = scaler.fit_transform(X)"
   ]
  },
  {
   "cell_type": "markdown",
   "id": "620e7a65-0725-4c74-a208-304bbf349afd",
   "metadata": {},
   "source": [
    "PCA降维"
   ]
  },
  {
   "cell_type": "code",
   "execution_count": null,
   "id": "139ac09a-d6ff-4b1f-94b7-61f77c528c0e",
   "metadata": {},
   "outputs": [],
   "source": [
    "# 从 30维 降到 10维\n",
    "pca = PCA(n_components=10)\n",
    "fit = pca.fit(Xs)\n",
    "X_pca = pca.transform(Xs)"
   ]
  },
  {
   "cell_type": "markdown",
   "id": "a5fdc15a-f417-4de4-8bd4-5077e7816732",
   "metadata": {},
   "source": [
    "取前两个PC 进行画图，查看降维后特征的区分度"
   ]
  },
  {
   "cell_type": "code",
   "execution_count": null,
   "id": "1422b9d7-6aba-46f6-846c-d58f05778f5e",
   "metadata": {},
   "outputs": [],
   "source": [
    "PCA_df = pd.DataFrame()\n",
    "PCA_df['PCA_1'] = X_pca[:,0]\n",
    "PCA_df['PCA_2'] = X_pca[:,1]\n",
    "## 可视化\n",
    "plt.figure(figsize=(8,6))\n",
    "plt.plot(PCA_df['PCA_1'][data.diagnosis == 'M'],\n",
    "         PCA_df['PCA_2'][data.diagnosis == 'M'],\n",
    "         'o', alpha = 0.7, color = 'r')\n",
    "plt.plot(PCA_df['PCA_1'][data.diagnosis == 'B'],\n",
    "         PCA_df['PCA_2'][data.diagnosis == 'B'],\n",
    "         'o', alpha = 0.7, color = 'b')\n",
    "\n",
    "plt.xlabel('PCA_1')\n",
    "plt.ylabel('PCA_2')\n",
    "plt.legend(['Malignant','Benign'])\n",
    "plt.show()"
   ]
  },
  {
   "cell_type": "markdown",
   "id": "8ba82f91-80e2-4934-af2b-498ad4f03a5b",
   "metadata": {},
   "source": [
    "通过拐点，确定选择前几个主成分用于后续建模"
   ]
  },
  {
   "cell_type": "code",
   "execution_count": null,
   "id": "45ab5b08-df2b-42f5-8905-4e0f3756878b",
   "metadata": {},
   "outputs": [],
   "source": [
    "#The amount of variance that each PC explains\n",
    "var = pca.explained_variance_ratio_\n",
    "### 通过拐点确定选择前几个PC\n",
    "plt.plot(var)\n",
    "plt.title('Scree Plot')\n",
    "plt.xlabel('Principal Component')\n",
    "plt.ylabel('Eigenvalue')\n",
    "\n",
    "leg = plt.legend(['Eigenvalues from PCA'], \n",
    "                 loc='best', \n",
    "                 borderpad=0.3,\n",
    "                 shadow=False,\n",
    "                 markerscale=0.4)\n",
    "\n",
    "leg.get_frame().set_alpha(0.4)\n",
    "\n",
    "\n",
    "plt.show()"
   ]
  },
  {
   "cell_type": "code",
   "execution_count": null,
   "id": "8ae7d7ac-9361-4091-a0d6-7799b23b60e4",
   "metadata": {},
   "outputs": [],
   "source": [
    "DecisionTree = DecisionTreeClassifier()"
   ]
  },
  {
   "cell_type": "code",
   "execution_count": null,
   "id": "8b0fb165-066d-424a-adc2-cd2e4a346eb4",
   "metadata": {},
   "outputs": [],
   "source": [
    "DecisionTree.fit(X_train,y_train)"
   ]
  },
  {
   "cell_type": "code",
   "execution_count": null,
   "id": "e395b656-6190-471a-8fcb-6acbb59fe07b",
   "metadata": {},
   "outputs": [],
   "source": [
    "DecisionTree.score(X_train,y_train)"
   ]
  },
  {
   "cell_type": "markdown",
   "id": "dc8fef68-8ac7-4738-a200-581b27e5a376",
   "metadata": {},
   "source": [
    "通过测试集对模型进行评分"
   ]
  },
  {
   "cell_type": "code",
   "execution_count": null,
   "id": "c88a6905-579f-4d12-a051-8d28a9c50c7c",
   "metadata": {},
   "outputs": [],
   "source": [
    "DecisionTree.score(X_test,y_test)"
   ]
  },
  {
   "cell_type": "code",
   "execution_count": null,
   "id": "58e44203-e499-4cc0-9373-acf37fedc83a",
   "metadata": {},
   "outputs": [],
   "source": [
    "y_pred = DecisionTree.predict(X_test)\n",
    "y_pred"
   ]
  },
  {
   "cell_type": "code",
   "execution_count": null,
   "id": "4fac5f2d-12d3-49a7-b4ec-c0cbcc90ebab",
   "metadata": {
    "scrolled": true
   },
   "outputs": [],
   "source": [
    "sns.heatmap(confusion_matrix(y_test,y_pred), annot=True, cmap='viridis', fmt=\".2f\")"
   ]
  },
  {
   "cell_type": "code",
   "execution_count": null,
   "id": "561b1d12-bd05-43f2-8c1d-1008fd696236",
   "metadata": {},
   "outputs": [],
   "source": [
    "print(classification_report(y_test,y_pred))"
   ]
  },
  {
   "cell_type": "markdown",
   "id": "e6d0510d-f938-4b08-908b-e58466c272c5",
   "metadata": {},
   "source": [
    "交叉验证"
   ]
  },
  {
   "cell_type": "markdown",
   "id": "7f845e5f-3ffe-444d-bdb5-a7496204ddec",
   "metadata": {},
   "source": [
    "交叉验证5次，每次随机取4/5的数据用于训练，1/5的数据用于测试。如果不设置该参数，则默认交叉验证3次\n",
    "以默认值’accuracy’（准确度）作为评估标准"
   ]
  },
  {
   "cell_type": "code",
   "execution_count": null,
   "id": "fca20ae7-1682-46b4-ba90-b9aef478e4b5",
   "metadata": {},
   "outputs": [],
   "source": [
    "acc=cross_val_score(DecisionTree,X,y,cv=5)\n",
    "acc"
   ]
  },
  {
   "cell_type": "code",
   "execution_count": null,
   "id": "8deaeb49-b40b-41ea-ad66-219b55082d48",
   "metadata": {},
   "outputs": [],
   "source": [
    "print(acc.mean())"
   ]
  },
  {
   "cell_type": "code",
   "execution_count": null,
   "id": "253d2965-5159-423e-84bf-895c9d8af2f4",
   "metadata": {},
   "outputs": [],
   "source": [
    "# 计算不同阈值下的真正例率（TPR）和假正例率（FPR）\n",
    "from sklearn.metrics import roc_curve, auc\n",
    "# 预测测试集的概率\n",
    "y_score = DecisionTree.predict_proba(X_test)[:, 1]\n",
    "# 计算不同阈值下的真正例率（TPR）和假正例率（FPR）\n",
    "fpr, tpr, thresholds = roc_curve(y_test, y_score)\n",
    "roc_auc = auc(fpr, tpr)\n",
    "\n",
    "# 绘制ROC曲线\n",
    "plt.figure()\n",
    "plt.plot(fpr, tpr, color='darkorange', lw=2, label='ROC curve (area = %0.2f)' % roc_auc)\n",
    "plt.plot([0, 1], [0, 1], color='navy', lw=2, linestyle='--')\n",
    "plt.xlim([0.0, 1.0])\n",
    "plt.ylim([0.0, 1.05])\n",
    "plt.xlabel('False Positive Rate')\n",
    "plt.ylabel('True Positive Rate')\n",
    "plt.title('Receiver Operating Characterisitc---liziteng')\n",
    "plt.legend(loc=\"lower right\")\n",
    "plt.show()"
   ]
  },
  {
   "cell_type": "markdown",
   "id": "acd50e8a-ab1a-4e16-b3b9-d0cb8da7316d",
   "metadata": {},
   "source": [
    "AUC值"
   ]
  },
  {
   "cell_type": "code",
   "execution_count": null,
   "id": "11b5c9ea-cb9c-4edd-926c-4418a4fa8db8",
   "metadata": {},
   "outputs": [],
   "source": [
    "from sklearn.metrics import roc_auc_score\n",
    "roc_auc = auc(fpr, tpr)\n",
    "print(roc_auc)"
   ]
  },
  {
   "cell_type": "markdown",
   "id": "a5312fcc-b00b-44a0-9157-eddb8a677460",
   "metadata": {},
   "source": [
    "以ROC曲线的AUC值作为评估标准，设置scoring参数为’roc_auc’"
   ]
  },
  {
   "cell_type": "code",
   "execution_count": null,
   "id": "5dddbcf5-8d70-412c-b0f7-d6d229ba567d",
   "metadata": {},
   "outputs": [],
   "source": [
    "acc=cross_val_score(DecisionTree,X,y,scoring='roc_auc',cv=5)\n",
    "acc"
   ]
  },
  {
   "cell_type": "code",
   "execution_count": null,
   "id": "cba51a95-ef5f-44e1-9043-777f5e2350e9",
   "metadata": {},
   "outputs": [],
   "source": [
    "print(acc.mean())"
   ]
  },
  {
   "cell_type": "markdown",
   "id": "8d33e5d5-4c28-442f-b8b1-ca6aaf58c0d9",
   "metadata": {},
   "source": [
    "AUC值偏低，尝试一下参数调优"
   ]
  },
  {
   "cell_type": "markdown",
   "id": "7c9453f9-cd87-48a4-b454-923eca159310",
   "metadata": {},
   "source": [
    "GridSearch网格搜索\r\n",
    "GridSearch网格搜索是一种穷举搜索的参数调优手段：遍历所有的候选参数，循环建立模型并评估模型的有效性和准确性，选取表现最好的参数作为最终结果。"
   ]
  },
  {
   "cell_type": "markdown",
   "id": "17d1d283-a50b-48d2-b381-cf7e2ce0bc74",
   "metadata": {},
   "source": [
    "多参数调优"
   ]
  },
  {
   "cell_type": "code",
   "execution_count": null,
   "id": "461f2d62-9426-4bb9-aede-c15050bd311c",
   "metadata": {},
   "outputs": [],
   "source": [
    "from sklearn.model_selection import GridSearchCV\n",
    "parameters={'max_depth':[1,2,3,4,5,6,7,8,9],'criterion':['gini','entropy'],'min_samples_split':[5,6,7,8,9,11,12,13,14,15]}\n",
    "grid_search=GridSearchCV(DecisionTree,parameters,scoring='roc_auc',cv=5)\n",
    "grid_search.fit(X_train,y_train)\n",
    "grid_search.best_params_"
   ]
  },
  {
   "cell_type": "code",
   "execution_count": null,
   "id": "280c3aba-5877-4d73-934a-e4e4b424009a",
   "metadata": {},
   "outputs": [],
   "source": [
    "DecisionTree=DecisionTreeClassifier(criterion='entropy',max_depth=2,min_samples_split=5)\n",
    "DecisionTree.fit(X_train,y_train)\n",
    "DecisionTree.score(X_train,y_train)"
   ]
  },
  {
   "cell_type": "code",
   "execution_count": null,
   "id": "d5b60c56-2b53-4933-8cbe-268af3a2330f",
   "metadata": {},
   "outputs": [],
   "source": [
    "DecisionTree.score(X_test,y_test)"
   ]
  },
  {
   "cell_type": "code",
   "execution_count": null,
   "id": "3c5522b2-0170-4635-a333-5f15bf374a25",
   "metadata": {},
   "outputs": [],
   "source": [
    "# 计算不同阈值下的真正例率（TPR）和假正例率（FPR）\n",
    "from sklearn.metrics import roc_curve, auc\n",
    "# 预测测试集的概率\n",
    "y_score = DecisionTree.predict_proba(X_test)[:, 1]\n",
    "# 计算不同阈值下的真正例率（TPR）和假正例率（FPR）\n",
    "fpr, tpr, thresholds = roc_curve(y_test, y_score)\n",
    "roc_auc = auc(fpr, tpr)\n",
    "\n",
    "# 绘制ROC曲线\n",
    "plt.figure()\n",
    "plt.plot(fpr, tpr, color='darkorange', lw=2, label='ROC curve (area = %0.2f)' % roc_auc)\n",
    "plt.plot([0, 1], [0, 1], color='navy', lw=2, linestyle='--')\n",
    "plt.xlim([-0.1, 1.0])\n",
    "plt.ylim([0.0, 1.05])\n",
    "plt.xlabel('False Positive Rate')\n",
    "plt.ylabel('True Positive Rate')\n",
    "plt.title('Receiver Operating Characterisitc---liziteng')\n",
    "plt.legend(loc=\"lower right\")\n",
    "plt.show()"
   ]
  },
  {
   "cell_type": "markdown",
   "id": "6cd84344-471f-4e4c-bdbc-c4cde8209f37",
   "metadata": {},
   "source": [
    "AUC值"
   ]
  },
  {
   "cell_type": "code",
   "execution_count": null,
   "id": "cde5f685-63de-4af8-80f3-ed7f57704c99",
   "metadata": {},
   "outputs": [],
   "source": [
    "from sklearn.metrics import roc_auc_score\n",
    "roc_auc = auc(fpr, tpr)\n",
    "print(roc_auc)"
   ]
  },
  {
   "cell_type": "markdown",
   "id": "f3a00aed-27fc-4b6e-8e05-3e44306f029a",
   "metadata": {},
   "source": [
    "单参数调优"
   ]
  },
  {
   "cell_type": "markdown",
   "id": "2e9f61bf-ee09-41cf-b95b-ea1eb78b6228",
   "metadata": {},
   "source": [
    "参数max_depth"
   ]
  },
  {
   "cell_type": "code",
   "execution_count": null,
   "id": "a695af1e-feb4-4c28-a38c-aa0fd02feeaf",
   "metadata": {},
   "outputs": [],
   "source": [
    "parameters={'max_depth':[1,2,3,4,5,6,7,8,9]}\n",
    "grid_search=GridSearchCV(DecisionTree,parameters,scoring='roc_auc',cv=5)\n",
    "grid_search.fit(X_train,y_train)\n",
    "grid_search.best_params_"
   ]
  },
  {
   "cell_type": "code",
   "execution_count": null,
   "id": "66a251b9-8e9d-4e57-afba-5598c3a7c478",
   "metadata": {},
   "outputs": [],
   "source": [
    "DecisionTree=DecisionTreeClassifier(max_depth=2)\n",
    "DecisionTree.fit(X_train,y_train)\n",
    "DecisionTree.score(X_train,y_train)"
   ]
  },
  {
   "cell_type": "code",
   "execution_count": null,
   "id": "fcba7361-416e-48c9-838b-7f185d27a993",
   "metadata": {},
   "outputs": [],
   "source": [
    "DecisionTree.score(X_test,y_test)"
   ]
  },
  {
   "cell_type": "code",
   "execution_count": null,
   "id": "77491967-8856-4190-aca7-4e7bf58a4ee4",
   "metadata": {},
   "outputs": [],
   "source": [
    "y_score = DecisionTree.predict_proba(X_test)[:, 1]\n",
    "# 计算不同阈值下的真正例率（TPR）和假正例率（FPR）\n",
    "fpr, tpr, thresholds = roc_curve(y_test, y_score)\n",
    "roc_auc = auc(fpr, tpr)\n",
    "\n",
    "# 绘制ROC曲线\n",
    "plt.figure()\n",
    "plt.plot(fpr, tpr, color='darkorange', lw=2, label='ROC curve (area = %0.2f)' % roc_auc)\n",
    "plt.plot([0, 1], [0, 1], color='navy', lw=2, linestyle='--')\n",
    "plt.xlim([0.0, 1.0])\n",
    "plt.ylim([0.0, 1.05])\n",
    "plt.xlabel('False Positive Rate')\n",
    "plt.ylabel('True Positive Rate')\n",
    "plt.title('Receiver Operating Characterisitc---liziteng')\n",
    "plt.legend(loc=\"lower right\")\n",
    "plt.show()"
   ]
  },
  {
   "cell_type": "markdown",
   "id": "fe2cbd37-ca21-49b7-bccb-148f5a0ee8b4",
   "metadata": {},
   "source": [
    "AUC值"
   ]
  },
  {
   "cell_type": "code",
   "execution_count": null,
   "id": "1b317a8e-9c33-4f50-ba01-59d69a0504eb",
   "metadata": {},
   "outputs": [],
   "source": [
    "from sklearn.metrics import roc_auc_score\n",
    "roc_auc = auc(fpr, tpr)\n",
    "print(roc_auc)"
   ]
  },
  {
   "cell_type": "markdown",
   "id": "97264606-73ba-478d-ac22-9731bebace7e",
   "metadata": {},
   "source": [
    "参数min_samples_spilt"
   ]
  },
  {
   "cell_type": "code",
   "execution_count": null,
   "id": "3e74f52c-be15-4dea-afb1-964677a38936",
   "metadata": {},
   "outputs": [],
   "source": [
    "parameters={'min_samples_split':[11,12,13,14,15,16]}\n",
    "grid_search=GridSearchCV(DecisionTree,parameters,scoring='roc_auc',cv=5)\n",
    "grid_search.fit(X_train,y_train)\n",
    "grid_search.best_params_"
   ]
  },
  {
   "cell_type": "code",
   "execution_count": null,
   "id": "4660ff41-f46c-420a-b37b-7c0086ea7388",
   "metadata": {},
   "outputs": [],
   "source": [
    "DecisionTree=DecisionTreeClassifier(min_samples_split=16)\n",
    "DecisionTree.fit(X_train,y_train)\n",
    "DecisionTree.score(X_train,y_train)"
   ]
  },
  {
   "cell_type": "code",
   "execution_count": null,
   "id": "fdfe9e32-e919-492a-a354-3e6e5f2742da",
   "metadata": {},
   "outputs": [],
   "source": [
    "DecisionTree.score(X_test,y_test)"
   ]
  },
  {
   "cell_type": "code",
   "execution_count": null,
   "id": "1c5331e3-f607-4e9f-9167-d0a3b20e616a",
   "metadata": {},
   "outputs": [],
   "source": [
    "y_score = DecisionTree.predict_proba(X_test)[:, 1]\n",
    "# 计算不同阈值下的真正例率（TPR）和假正例率（FPR）\n",
    "fpr, tpr, thresholds = roc_curve(y_test, y_score)\n",
    "roc_auc = auc(fpr, tpr)\n",
    "\n",
    "# 绘制ROC曲线\n",
    "plt.figure()\n",
    "plt.plot(fpr, tpr, color='darkorange', lw=2, label='ROC curve (area = %0.2f)' % roc_auc)\n",
    "plt.plot([0, 1], [0, 1], color='navy', lw=2, linestyle='--')\n",
    "plt.xlim([0.0, 1.0])\n",
    "plt.ylim([0.0, 1.05])\n",
    "plt.xlabel('False Positive Rate')\n",
    "plt.ylabel('True Positive Rate')\n",
    "plt.title('Receiver Operating Characterisitc---liziteng')\n",
    "plt.legend(loc=\"lower right\")\n",
    "plt.show()"
   ]
  },
  {
   "cell_type": "markdown",
   "id": "27d827aa-b13c-43c0-b38c-2e8644e22207",
   "metadata": {},
   "source": [
    "AUC值"
   ]
  },
  {
   "cell_type": "code",
   "execution_count": null,
   "id": "cc643215-5404-4f02-bd3d-93d64f7cb959",
   "metadata": {},
   "outputs": [],
   "source": [
    "from sklearn.metrics import roc_auc_score\n",
    "roc_auc = auc(fpr, tpr)\n",
    "print(roc_auc)"
   ]
  },
  {
   "cell_type": "markdown",
   "id": "f1c0506d-7c52-4b88-b933-d798a2779d72",
   "metadata": {},
   "source": [
    "参数criterion"
   ]
  },
  {
   "cell_type": "code",
   "execution_count": null,
   "id": "3c675e0c-643a-4f9f-9507-904259f22bbe",
   "metadata": {},
   "outputs": [],
   "source": [
    "DecisionTree=DecisionTreeClassifier(criterion='entropy')\n",
    "DecisionTree.fit(X_train,y_train)\n",
    "DecisionTree.score(X_train,y_train)"
   ]
  },
  {
   "cell_type": "code",
   "execution_count": null,
   "id": "13fb3d36-4d7c-44cb-bf81-0844f49471bd",
   "metadata": {},
   "outputs": [],
   "source": [
    "DecisionTree.score(X_test,y_test)"
   ]
  },
  {
   "cell_type": "code",
   "execution_count": null,
   "id": "e44ceea1-3451-46e0-acd2-3d4139e5ebc1",
   "metadata": {},
   "outputs": [],
   "source": [
    "y_score = DecisionTree.predict_proba(X_test)[:, 1]\n",
    "# 计算不同阈值下的真正例率（TPR）和假正例率（FPR）\n",
    "fpr, tpr, thresholds = roc_curve(y_test, y_score)\n",
    "roc_auc = auc(fpr, tpr)\n",
    "\n",
    "# 绘制ROC曲线\n",
    "plt.figure()\n",
    "plt.plot(fpr, tpr, color='darkorange', lw=2, label='ROC curve (area = %0.2f)' % roc_auc)\n",
    "plt.plot([0, 1], [0, 1], color='navy', lw=2, linestyle='--')\n",
    "plt.xlim([0.0, 1.0])\n",
    "plt.ylim([0.0, 1.05])\n",
    "plt.xlabel('False Positive Rate')\n",
    "plt.ylabel('True Positive Rate')\n",
    "plt.title('Receiver Operating Characterisitc---liziteng')\n",
    "plt.legend(loc=\"lower right\")\n",
    "plt.show()"
   ]
  },
  {
   "cell_type": "markdown",
   "id": "6f5f698a-06d1-468f-9b58-debc4fe3b913",
   "metadata": {},
   "source": [
    "AUC值"
   ]
  },
  {
   "cell_type": "code",
   "execution_count": null,
   "id": "8f430a99-7832-44f6-933e-985a44b13191",
   "metadata": {},
   "outputs": [],
   "source": [
    "from sklearn.metrics import roc_auc_score\n",
    "roc_auc = auc(fpr, tpr)\n",
    "print(roc_auc)"
   ]
  },
  {
   "cell_type": "markdown",
   "id": "2dcaa046-91e5-420a-953a-e7c9c26c89f8",
   "metadata": {},
   "source": [
    "以调整特征选择标准为信息熵后的ROC曲线的AUC值作为评估标准，设置scoring参数为’roc_auc’"
   ]
  },
  {
   "cell_type": "code",
   "execution_count": null,
   "id": "baf1fbb1-4243-44a0-ae7b-5339c8795f05",
   "metadata": {},
   "outputs": [],
   "source": [
    "acc=cross_val_score(DecisionTree,X,y,scoring='roc_auc',cv=5)\n",
    "acc"
   ]
  },
  {
   "cell_type": "code",
   "execution_count": null,
   "id": "81364506-e364-4e54-a52b-754b37018488",
   "metadata": {},
   "outputs": [],
   "source": [
    "print(acc.mean())"
   ]
  },
  {
   "cell_type": "code",
   "execution_count": null,
   "id": "d14398cd-9a6f-4759-b159-d2dd8b3e07f7",
   "metadata": {},
   "outputs": [],
   "source": [
    "y_pred = DecisionTree.predict(X_test)\n",
    "y_pred"
   ]
  },
  {
   "cell_type": "code",
   "execution_count": null,
   "id": "33f83790-c3aa-4f0e-af4d-38fe8ec8f27f",
   "metadata": {},
   "outputs": [],
   "source": [
    "sns.heatmap(confusion_matrix(y_test,y_pred), annot=True, cmap='viridis', fmt=\".2f\")"
   ]
  },
  {
   "cell_type": "code",
   "execution_count": null,
   "id": "4ab3e089-b038-4989-9006-7d77a36ea4bc",
   "metadata": {},
   "outputs": [],
   "source": [
    "from sklearn.pipeline import Pipeline\n",
    "from sklearn.discriminant_analysis import LinearDiscriminantAnalysis\n",
    "from sklearn.neighbors import KNeighborsClassifier\n",
    "from sklearn.naive_bayes import GaussianNB\n",
    "from sklearn.model_selection import KFold \n",
    "import warnings\n",
    "\n",
    "def bxplots(results,names):\n",
    "    fig = plt.figure()\n",
    "    fig.suptitle('Algorithm Comparison')\n",
    "    ax = fig.add_subplot(111)\n",
    "    plt.boxplot(results)\n",
    "    ax.set_xticklabels(names)\n",
    "    plt.show()\n",
    "\n",
    "def piplinecompare(models, X_train, y_train):\n",
    "    results = []\n",
    "    names = []\n",
    "    for name, model in models:\n",
    "        kfold = KFold(shuffle=True,n_splits=10,random_state=7)\n",
    "        cv_results = cross_val_score(model, X_train, y_train, cv=kfold, scoring='roc_auc')\n",
    "        results.append(cv_results)\n",
    "        names.append(name)\n",
    "        msg = \"%s: %f (%f)\" % (name, cv_results.mean(), cv_results.std())\n",
    "        print(msg)\n",
    "    return results,names\n",
    "pipelines = []\n",
    "models = []\n",
    "#lbfgs算法进行模型训练时，迭代过程没有收敛，会出现警告信息,忽略警告信息\n",
    "warnings.filterwarnings(\"ignore\", category=Warning)\n",
    "models.append(('LR', LogisticRegression()))\n",
    "models.append(('LDA',LinearDiscriminantAnalysis()))\n",
    "models.append(('KNN',KNeighborsClassifier()))\n",
    "models.append(('CART',DecisionTree))\n",
    "models.append(('NB',GaussianNB()))\n",
    "models.append(('SVM',SVC()))\n",
    "pipelines.append(( 'ScaledLR' , Pipeline([( 'Scaler' , StandardScaler()),( 'LR' ,\n",
    "    LogisticRegression())])))\n",
    "pipelines.append(( 'ScaledLDA' , Pipeline([( 'Scaler' , StandardScaler()),( 'LDA' ,\n",
    "    LinearDiscriminantAnalysis())])))\n",
    "pipelines.append(( 'ScaledKNN' , Pipeline([( 'Scaler' , StandardScaler()),( 'KNN' ,\n",
    "    KNeighborsClassifier())])))\n",
    "pipelines.append(( 'ScaledNB' , Pipeline([( 'Scaler' , StandardScaler()),( 'NB' ,\n",
    "    GaussianNB())])))\n",
    "pipelines.append(( 'ScaledSVM' , Pipeline([( 'Scaler' , StandardScaler()),( 'SVM' , SVC())])))\n",
    "pipelines.append(('ScaledCart',Pipeline([('Scaler',StandardScaler()),('DecisionTree',DecisionTreeClassifier(criterion='entropy'))])))\n",
    "results,names = piplinecompare(models, X_train, y_train)\n",
    "bxplots(results,names)\n",
    "\n",
    "results1,names1 = piplinecompare(pipelines, X_train, y_train)\n",
    "bxplots(results1,names1)"
   ]
  },
  {
   "cell_type": "markdown",
   "id": "f43bc45e-dcd7-4db1-84a9-8f02594745a4",
   "metadata": {},
   "source": [
    "可以发现，树模型对与数据的是否标准化无影响\r\n",
    "LDA,NB 算法 有轻微影响\r\n",
    "LR, KNN,SVM 在进行建模之前，必须要进行合理的数据标准化，因为这对于模型训练有很大的影响."
   ]
  }
 ],
 "metadata": {
  "kernelspec": {
   "display_name": "Python 3 (ipykernel)",
   "language": "python",
   "name": "python3"
  },
  "language_info": {
   "codemirror_mode": {
    "name": "ipython",
    "version": 3
   },
   "file_extension": ".py",
   "mimetype": "text/x-python",
   "name": "python",
   "nbconvert_exporter": "python",
   "pygments_lexer": "ipython3",
   "version": "3.11.7"
  }
 },
 "nbformat": 4,
 "nbformat_minor": 5
}
